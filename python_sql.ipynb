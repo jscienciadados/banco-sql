{
  "nbformat": 4,
  "nbformat_minor": 0,
  "metadata": {
    "colab": {
      "name": "python_sql.ipynb",
      "provenance": [],
      "include_colab_link": true
    },
    "kernelspec": {
      "name": "python3",
      "display_name": "Python 3"
    },
    "language_info": {
      "name": "python"
    }
  },
  "cells": [
    {
      "cell_type": "markdown",
      "metadata": {
        "id": "view-in-github",
        "colab_type": "text"
      },
      "source": [
        "<a href=\"https://colab.research.google.com/github/jscienciadados/banco-sql/blob/main/python_sql.ipynb\" target=\"_parent\"><img src=\"https://colab.research.google.com/assets/colab-badge.svg\" alt=\"Open In Colab\"/></a>"
      ]
    },
    {
      "cell_type": "markdown",
      "metadata": {
        "id": "-Dbt7Xva49sZ"
      },
      "source": [
        "# Banco de Dados"
      ]
    },
    {
      "cell_type": "markdown",
      "metadata": {
        "id": "yJGUBi1F7NcO"
      },
      "source": [
        "* Componentes\n",
        "  * Base de dados\n",
        "  * Sistema Gerenciador de Bando de Dados (SGDB)\n",
        "  * Linguagem de Manipulação\n",
        "    *  Structered Query Language (SQL)\n",
        "  * Programas adicionais\n",
        "\n",
        "* Arquitetura\n",
        "  * Cliente-Servidor"
      ]
    },
    {
      "cell_type": "markdown",
      "metadata": {
        "id": "HpT7Tv649Cbl"
      },
      "source": [
        "## Modelo Relacional\n",
        "  \n",
        "| nome | tipo | level | capturado em|\n",
        "|---- |----|-----|----|\n",
        "|Pikachu| Elétrico| 5| 08 jun 2021|\n",
        "|Bulbassauro| Grama| 10| 10 fev 1990|\n",
        "|Squirtle| Água| 12| 23 out 2015|\n",
        "\n",
        "Tabela ou Relação\n",
        "\n",
        "Linhas, Intâncias, Entradas\n",
        "\n",
        "Colunas, atributos, caracteríísticas"
      ]
    },
    {
      "cell_type": "markdown",
      "metadata": {
        "id": "xoFrbKU3IKlg"
      },
      "source": [
        "## Implementação em SQL\n",
        "\n",
        "* dialetos: MySQL, PostreSQL, MariaDB, Oracle etc\n",
        "\n",
        "* MySQL online: https://paiza.io/en/projects/new?language=mysql\n",
        "* PostgreSQL as a Service: https://www.elephantsql.com/\n",
        "* Sqlite e PostgreSQL: https://sqliteonline.com/"
      ]
    },
    {
      "cell_type": "markdown",
      "metadata": {
        "id": "PVg1sQFVfksE"
      },
      "source": [
        "#### Criando um banco de dados dentro do SGDB\n",
        "* MySQL\n",
        "      CREATE {DATABASE} [IF NOT EXISTS] db_name\n",
        "*PostgreSQL\n",
        "      CREATE DATABASE name\n",
        "*SQLite\n",
        "      # Não tem (nesse formato)"
      ]
    },
    {
      "cell_type": "markdown",
      "metadata": {
        "id": "gvE9m0ikXRH0"
      },
      "source": [
        "### Linguagem de Descrição de Dados (DDL)"
      ]
    },
    {
      "cell_type": "markdown",
      "metadata": {
        "id": "c8G2ku7LIVew"
      },
      "source": [
        "\n",
        "#### CREATE (Criar)\n",
        "      CREATE [TEMPORARY] TABLE [IF NOT EXISTS] tbl_name\n",
        "      [column_name column_type column_constraint, ...]\n",
        "      [table_constraints, ...]\n",
        "\n",
        "[MySQL types](https://dev.mysql.com/doc/refman/8.0/en/data-types.html) \n",
        "\\- [PostrgreSQL types](https://www.postgresql.org/docs/9.5/datatype.html)\n",
        "\\- [SQLite types](https://www.sqlite.org/datatype3.html)\n",
        "\n",
        "* Most used Constraints:\n",
        "\n",
        "#### ALTER (alterar)\n",
        "      ALTER TABLE tbl_name [alter_option, ...]\n",
        "\n",
        "#### DROP (descartar)\n",
        "      DROP TABLE [ IF EXISTS ] tbl_name [, ...]\n"
      ]
    },
    {
      "cell_type": "markdown",
      "metadata": {
        "id": "20qtCK5KXXV2"
      },
      "source": [
        "### Linguagem de Manipulação de Dados (DML)"
      ]
    },
    {
      "cell_type": "markdown",
      "metadata": {
        "id": "7TrnHGKyY_Xg"
      },
      "source": [
        "\n",
        "#### INSERT (inserir)\n",
        "\n",
        "      INSERT  INTO tbl_name[(col_name [, col_name] ...)]\n",
        "      VALUES (value_list) [, (value_list)] ...```\n",
        "\n",
        "\n",
        "#### UPDATE (atualizar)\n",
        "      UPDATE table_reference\n",
        "      SET assignment_list\n",
        "      [WHERE where_condition]\n",
        "\n",
        "#### DELETE (deletar) \n",
        "      DELETE FROM tbl_name [WHERE where_condition]"
      ]
    },
    {
      "cell_type": "markdown",
      "metadata": {
        "id": "n3dC6xmDXiSK"
      },
      "source": [
        "### Linguagem de Consulta de Dados (DQL)"
      ]
    },
    {
      "cell_type": "markdown",
      "metadata": {
        "id": "Ri-mfwljZkDS"
      },
      "source": [
        "\n",
        "#### SELECT (SELECIONAR)\n",
        "\n",
        "      SELECT [ALL | ISTINCT | DISTINCTROW ]\n",
        "      select_expr [, select_expr] ...\n",
        "      [FROM table_references\n",
        "      [WHERE where_condition]\n",
        "      [GROUP BY {col_name | expr | position}, ...]\n",
        "      [HAVING where_condition]\n",
        "      [ORDER BY {col_name | expr | position} [ASC | DESC], ...]\n",
        "      [LIMIT {[offset,] row_count | row_count OFFSET offset}]"
      ]
    },
    {
      "cell_type": "markdown",
      "metadata": {
        "id": "TP3vSGkkYGD2"
      },
      "source": [
        "#### JOINS"
      ]
    },
    {
      "cell_type": "markdown",
      "metadata": {
        "id": "hYWPqX7sXvg0"
      },
      "source": [
        "### Linguagem de Transação de Dados (DTL)\n",
        "### Linguagem de Controle de Dados (DCL)"
      ]
    },
    {
      "cell_type": "markdown",
      "metadata": {
        "id": "TAt46ZKS5AId"
      },
      "source": [
        "# Integração com Python\n"
      ]
    },
    {
      "cell_type": "code",
      "metadata": {
        "id": "ZKVdyVB9dv5O"
      },
      "source": [
        "import sqlite3"
      ],
      "execution_count": null,
      "outputs": []
    },
    {
      "cell_type": "markdown",
      "metadata": {
        "id": "ycud47HIdOVJ"
      },
      "source": [
        "## SQLAlchemy\n",
        "\n",
        "É um *framework* desenvolvido para permitir programar aplicações que usem Banco de dados, de maneira inpedepende e com diferentes tipos de abstração:\n",
        "\n",
        "* Raw SQL (SQL Bruto)\n",
        "* SQL Expression Language (Linguagem de Expressão SQL)\n",
        "* Object-Relational Mapping - ORM (Mapeamento Objeto-Relacional)"
      ]
    },
    {
      "cell_type": "markdown",
      "metadata": {
        "id": "xkmJRY4qlVLV"
      },
      "source": [
        "### Raw SQL"
      ]
    },
    {
      "cell_type": "code",
      "metadata": {
        "id": "43Z4r8B6e13j"
      },
      "source": [
        "from sqlalchemy import create_engine\n",
        "from sqlalchemy.sql import text"
      ],
      "execution_count": null,
      "outputs": []
    },
    {
      "cell_type": "code",
      "metadata": {
        "id": "dHK2afB3e9B9"
      },
      "source": [
        "# Cria a engine para o banco de dados\n",
        "eng = create_engine(\"sqlite:///cars.db\")"
      ],
      "execution_count": null,
      "outputs": []
    },
    {
      "cell_type": "code",
      "metadata": {
        "id": "IRgjn4_ne9fl"
      },
      "source": [
        "# abre uma conexão com o banco e executa código SQL\n",
        "with eng.connect() as con:\n",
        "  con.execute(text('DROP TABLE IF EXISTS Cars'))\n",
        "  con.execute(text('''CREATE TABLE Cars(Id INTEGER PRIMARY KEY, \n",
        "                   Name TEXT, Price INTEGER)'''))"
      ],
      "execution_count": null,
      "outputs": []
    },
    {
      "cell_type": "code",
      "metadata": {
        "id": "xqeeDZJe5Q30"
      },
      "source": [
        "data = ({ \"Id\": 1, \"Name\": \"Audi\", \"Price\": 52642 },\n",
        "        { \"Id\": 2, \"Name\": \"Mercedes\", \"Price\": 57127 },\n",
        "        { \"Id\": 3, \"Name\": \"Skoda\", \"Price\": 9000 },\n",
        "        { \"Id\": 4, \"Name\": \"Volvo\", \"Price\": 29000 },\n",
        "        { \"Id\": 5, \"Name\": \"Bentley\", \"Price\": 350000 },\n",
        "        { \"Id\": 6, \"Name\": \"Citroen\", \"Price\": 21000 },\n",
        "        { \"Id\": 7, \"Name\": \"Hummer\", \"Price\": 41400 },\n",
        "        { \"Id\": 8, \"Name\": \"Volkswagen\", \"Price\": 21600 }\n",
        ")\n",
        "# Inserindo dados\n",
        "with eng.connect() as con:\n",
        "  for line in data:\n",
        "    con.execute(text(\"\"\"INSERT INTO Cars(Id, Name, Price) VALUES(:Id, :Name, :Price)\"\"\"), **line)"
      ],
      "execution_count": null,
      "outputs": []
    },
    {
      "cell_type": "code",
      "metadata": {
        "id": "noCVlsudnNjw"
      },
      "source": [
        "# Recebendo dados\n",
        "with eng.connect() as con:\n",
        "  rs = con.execute(text(\"SELECT * FROM Cars\"))\n",
        "  print(rs.fetchone())\n",
        "  print(rs.fetchmany(3))\n",
        "  print(rs.fetchall())"
      ],
      "execution_count": null,
      "outputs": []
    },
    {
      "cell_type": "markdown",
      "metadata": {
        "id": "EveWKrLRla8H"
      },
      "source": [
        "### SQL Expression Language"
      ]
    },
    {
      "cell_type": "markdown",
      "metadata": {
        "id": "ZPyo6rutB2AL"
      },
      "source": [
        "#### Definição de Schemas"
      ]
    },
    {
      "cell_type": "code",
      "metadata": {
        "id": "YZvtvQItuCaE"
      },
      "source": [
        "from sqlalchemy import Table, Column, Integer, String, MetaData"
      ],
      "execution_count": null,
      "outputs": []
    },
    {
      "cell_type": "code",
      "metadata": {
        "id": "HFbX93EquL4Y"
      },
      "source": [
        "# Cria um ojeto de metadata. Metadatas sãão coleçoes de tabelas e sua infos\n",
        "meta = MetaData()"
      ],
      "execution_count": null,
      "outputs": []
    },
    {
      "cell_type": "code",
      "metadata": {
        "id": "On7w0SKE5SX5"
      },
      "source": [
        "#Cria um objeto do tipo tabela que abstrai uma tabela no Banco de dados\n",
        "cars = Table('Cars', meta,\n",
        "     Column('Id', Integer, primary_key=True),\n",
        "     Column('Name', String),\n",
        "     Column('Price', Integer)\n",
        ")"
      ],
      "execution_count": null,
      "outputs": []
    },
    {
      "cell_type": "code",
      "metadata": {
        "id": "QSQ0R2I2vqGA"
      },
      "source": [
        "print \"The Name column:\"\n",
        "print cars.columns.Name\n",
        "print cars.c.Name\n",
        "\n",
        "print \"Columns: \"\n",
        "for col in cars.c:\n",
        "    print col\n",
        "    \n",
        "print \"Primary keys:\"\n",
        "for pk in cars.primary_key:\n",
        "    print pk    \n",
        "\n",
        "print \"The Id column:\"\n",
        "print cars.c.Id.name\n",
        "print cars.c.Id.type\n",
        "print cars.c.Id.nullable\n",
        "print cars.c.Id.primary_key"
      ],
      "execution_count": null,
      "outputs": []
    },
    {
      "cell_type": "code",
      "metadata": {
        "id": "NkGI_0JeXVDF"
      },
      "source": [
        ""
      ],
      "execution_count": null,
      "outputs": []
    },
    {
      "cell_type": "code",
      "metadata": {
        "id": "lxh2UTH7v_T7"
      },
      "source": [
        ""
      ],
      "execution_count": null,
      "outputs": []
    },
    {
      "cell_type": "code",
      "metadata": {
        "id": "sETO8J31blix"
      },
      "source": [
        "meta.reflect(bind=eng)\n",
        "for table in meta.tables:\n",
        "    print(table)"
      ],
      "execution_count": null,
      "outputs": []
    },
    {
      "cell_type": "code",
      "metadata": {
        "id": "lZwvcYMIwj5A"
      },
      "source": [
        "from sqlalchemy import nspect"
      ],
      "execution_count": null,
      "outputs": []
    },
    {
      "cell_type": "code",
      "metadata": {
        "id": "dwYuaiXzwkD0"
      },
      "source": [
        "insp = inspect(eng)\n",
        "print(insp.get_table_names())\n",
        "print(insp.get_columns(\"Cars\"))\n",
        "print(insp.get_pk_constraint(\"Cars\")) "
      ],
      "execution_count": null,
      "outputs": []
    },
    {
      "cell_type": "markdown",
      "metadata": {
        "id": "Agcoc-q-Cg56"
      },
      "source": [
        "#### Expression Language"
      ]
    },
    {
      "cell_type": "code",
      "metadata": {
        "id": "cLS3_Jf4Skw6"
      },
      "source": [
        "from sqlalchemy.sql import select "
      ],
      "execution_count": null,
      "outputs": []
    },
    {
      "cell_type": "code",
      "metadata": {
        "id": "sRlyPFxFCqFS"
      },
      "source": [
        "meta = MetaData(eng)\n",
        "cars2 = Table('Cars', meta, autoload=True)  \n"
      ],
      "execution_count": null,
      "outputs": []
    },
    {
      "cell_type": "code",
      "metadata": {
        "id": "Uv8wn1nyRAEm"
      },
      "source": [
        "# SELECT\n",
        "with eng.connect() as con:\n",
        "  stm = select([cars])\n",
        "  rs = con.execute(stm) \n",
        "  print(rs.fetchall())"
      ],
      "execution_count": null,
      "outputs": []
    },
    {
      "cell_type": "code",
      "metadata": {
        "id": "Ejd6BmTwSrDL"
      },
      "source": [
        "# LIMIT\n",
        "with eng.connect() as con:\n",
        "  stm = select([cars.c.Name, cars.c.Price]).limit(3)\n",
        "  rs = con.execute(stm) \n",
        "  print(rs.fetchall())"
      ],
      "execution_count": null,
      "outputs": []
    },
    {
      "cell_type": "code",
      "metadata": {
        "id": "-lszmjhFPDJX"
      },
      "source": [
        "from sqlalchemy.sql import and_, or_  "
      ],
      "execution_count": null,
      "outputs": []
    },
    {
      "cell_type": "code",
      "metadata": {
        "id": "9kQzzO8KTsJ7"
      },
      "source": [
        "# WHERE\n",
        "with eng.connect() as con:\n",
        "  stm = select([cars]).where(and_(cars.c.Price > 10000, cars.c.Price < 40000))\n",
        "  rs = con.execute(stm) \n",
        "  print(rs.fetchall())"
      ],
      "execution_count": null,
      "outputs": []
    },
    {
      "cell_type": "code",
      "metadata": {
        "id": "SlDWvpikR_Dg"
      },
      "source": [
        "#LIKE\n",
        "with eng.connect() as con:\n",
        "  stm = select([cars]).where(cars.c.Name.like('%en'))\n",
        "  rs = con.execute(stm) \n",
        "  print(rs.fetchall())"
      ],
      "execution_count": null,
      "outputs": []
    },
    {
      "cell_type": "code",
      "metadata": {
        "id": "GE_tH3xbPk27"
      },
      "source": [
        "from sqlalchemy.sql import asc, desc"
      ],
      "execution_count": null,
      "outputs": []
    },
    {
      "cell_type": "code",
      "metadata": {
        "id": "TyGt6bunTxjQ"
      },
      "source": [
        "# Order By\n",
        "with eng.connect() as con:  \n",
        "  s = select([cars]).order_by(asc(cars.c.Name))\n",
        "  rs = con.execute(s) \n",
        "  for row in rs:\n",
        "    print(row['Id'], row['Name'], row['Price'])"
      ],
      "execution_count": null,
      "outputs": []
    },
    {
      "cell_type": "code",
      "metadata": {
        "id": "BIp-FYAIVzZ_"
      },
      "source": [
        "\n",
        "# ler dos arquivos\n",
        "with eng.connect() as con:\n",
        "  authors = Table('Authors', meta, autoload=True)\n",
        "  books = Table('Books', meta, autoload=True)\n",
        "  stm = select([authors.join(books)])\n",
        "  rs = con.execute(stm) \n",
        "  for row in rs:\n",
        "    print row['Name'], row['Title']"
      ],
      "execution_count": null,
      "outputs": []
    },
    {
      "cell_type": "markdown",
      "metadata": {
        "id": "QZXB3QusS7D4"
      },
      "source": [
        "### Object-Relational Mapping (ORM)"
      ]
    },
    {
      "cell_type": "code",
      "metadata": {
        "id": "L2SQsCCyS_LO"
      },
      "source": [
        "from sqlalchemy.ext.declarative import declarative_base\n",
        "from sqlalchemy import Column, Integer, String\n",
        "from sqlalchemy.orm import sessionmaker"
      ],
      "execution_count": null,
      "outputs": []
    },
    {
      "cell_type": "code",
      "metadata": {
        "id": "RBPFDGkUUU0D"
      },
      "source": [
        "# Classes Bases e Sessão\n",
        "Base = declarative_base(bind=eng)\n",
        "Session = sessionmaker(bind=eng)"
      ],
      "execution_count": null,
      "outputs": []
    },
    {
      "cell_type": "code",
      "metadata": {
        "id": "QuwqYhv6UVay"
      },
      "source": [
        "class Car(Base):\n",
        "  __tablename__ = \"Cars\"\n",
        "\n",
        "  id = Column(Integer, primary_key=True)\n",
        "  name = Column(String)  \n",
        "  price = Column(Integer)"
      ],
      "execution_count": null,
      "outputs": []
    },
    {
      "cell_type": "code",
      "metadata": {
        "id": "JQ29-R_dU-yE"
      },
      "source": [
        "Base.metadata.create_all()        \n",
        "ses = Session()  "
      ],
      "execution_count": null,
      "outputs": []
    },
    {
      "cell_type": "code",
      "metadata": {
        "id": "yf5iBZkWWHPQ"
      },
      "source": [
        "ses.add(Car(id=1, name='Audi', price=52642))\n",
        "ses.commit()\n",
        "ses.close()"
      ],
      "execution_count": null,
      "outputs": []
    },
    {
      "cell_type": "code",
      "metadata": {
        "id": "2GejL_L5U9Dr"
      },
      "source": [
        "with Session() as s:\n",
        "  s.add_all([ \n",
        "    Car(id=2, name='Mercedes', price=57127),\n",
        "    Car(id=3, name='Skoda', price=9000),\n",
        "    Car(id=4, name='Volvo', price=29000),\n",
        "    Car(id=5, name='Bentley', price=350000),\n",
        "    Car(id=6, name='Citroen', price=21000),\n",
        "    Car(id=7, name='Hummer', price=41400),\n",
        "    Car(id=8, name='Volkswagen', price=21600)\n",
        "  ])\n",
        "  s.commit()"
      ],
      "execution_count": null,
      "outputs": []
    },
    {
      "cell_type": "code",
      "metadata": {
        "id": "Cj_72sR3VFEp"
      },
      "source": [
        "# Fazendo a query\n",
        "with Session() as s:\n",
        "  rs = s.query(Car).all()\n",
        "  for car in rs:\n",
        "    print(car.name, car.price)"
      ],
      "execution_count": null,
      "outputs": []
    },
    {
      "cell_type": "code",
      "metadata": {
        "id": "U7PT-4uiVcrA"
      },
      "source": [
        "with Session() as s:\n",
        "  rs = s.query(Car).filter(Car.name.like('%en'))\n",
        "  for car in rs:\n",
        "    print(car.name, car.price)"
      ],
      "execution_count": null,
      "outputs": []
    },
    {
      "cell_type": "code",
      "metadata": {
        "id": "-Uv2C6KhWB0u"
      },
      "source": [
        "from sqlalchemy import ForeignKey\n",
        "from sqlalchemy.orm import relationship"
      ],
      "execution_count": null,
      "outputs": []
    },
    {
      "cell_type": "code",
      "metadata": {
        "id": "r5dFazCvXTfB"
      },
      "source": [
        "class Author(Base):\n",
        "  __tablename__ = \"Authors\"\n",
        " \n",
        "  author_id = Column(Integer, primary_key=True)\n",
        "  name = Column(String)  \n",
        "  books = relationship(\"Book\")\n",
        "\n",
        "class Book(Base):\n",
        "  __tablename__ = \"Books\"\n",
        " \n",
        "  book_id = Column(Integer, primary_key=True)\n",
        "  title = Column(String)      \n",
        "  author_id = Column(Integer, ForeignKey(\"Authors.author_id\"))    \n",
        "  author = relationship(\"Author\")                           "
      ],
      "execution_count": null,
      "outputs": []
    },
    {
      "cell_type": "code",
      "metadata": {
        "id": "kVLsME9waIKf"
      },
      "source": [
        "Base.metadata.create_all()"
      ],
      "execution_count": null,
      "outputs": []
    },
    {
      "cell_type": "code",
      "metadata": {
        "id": "MlL6DzkpYQf2"
      },
      "source": [
        "with Session() as s:\n",
        "  res = s.query(Author).filter(Author.name==\"Leo Tolstoy\").first()\n",
        "  print(res)\n",
        "  for book in res.books:\n",
        "    print (book.title)"
      ],
      "execution_count": null,
      "outputs": []
    },
    {
      "cell_type": "code",
      "metadata": {
        "id": "TGzUeNceYr_h"
      },
      "source": [
        "with Session() as s:\n",
        "  res = s.query(Book).filter(Book.title==\"Emma\").first()    \n",
        "  print(res.author.name)"
      ],
      "execution_count": null,
      "outputs": []
    },
    {
      "cell_type": "code",
      "metadata": {
        "id": "uxdaShMiaSAe"
      },
      "source": [
        ""
      ],
      "execution_count": null,
      "outputs": []
    }
  ]
}